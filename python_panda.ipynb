{
  "metadata": {
    "language_info": {
      "codemirror_mode": {
        "name": "python",
        "version": 3
      },
      "file_extension": ".py",
      "mimetype": "text/x-python",
      "name": "python",
      "nbconvert_exporter": "python",
      "pygments_lexer": "ipython3",
      "version": "3.8"
    },
    "kernelspec": {
      "name": "python",
      "display_name": "Python (Pyodide)",
      "language": "python"
    }
  },
  "nbformat_minor": 4,
  "nbformat": 4,
  "cells": [
    {
      "cell_type": "markdown",
      "source": "# My first Python code on Jupyter Lite",
      "metadata": {}
    },
    {
      "cell_type": "markdown",
      "source": "## How use pandas to read csv files\n",
      "metadata": {}
    },
    {
      "cell_type": "code",
      "source": "#importing package\nimport pandas as pd",
      "metadata": {
        "trusted": true
      },
      "execution_count": 6,
      "outputs": []
    },
    {
      "cell_type": "code",
      "source": "#Read file\nread_csv = pd.read_csv('countries.csv')",
      "metadata": {
        "trusted": true
      },
      "execution_count": 7,
      "outputs": []
    },
    {
      "cell_type": "code",
      "source": "#Setting data set\ndf = pd.DataFrame(read_csv)",
      "metadata": {
        "trusted": true
      },
      "execution_count": 8,
      "outputs": []
    },
    {
      "cell_type": "code",
      "source": "#Printing data set\ndf",
      "metadata": {
        "trusted": true
      },
      "execution_count": 9,
      "outputs": [
        {
          "execution_count": 9,
          "output_type": "execute_result",
          "data": {
            "text/plain": "       Country         Region\n0      Algeria         AFRICA\n1       Angola         AFRICA\n2        Benin         AFRICA\n3     Botswana         AFRICA\n4      Burkina         AFRICA\n..         ...            ...\n189   Paraguay  SOUTH AMERICA\n190       Peru  SOUTH AMERICA\n191   Suriname  SOUTH AMERICA\n192    Uruguay  SOUTH AMERICA\n193  Venezuela  SOUTH AMERICA\n\n[194 rows x 2 columns]",
            "text/html": "<div>\n<style scoped>\n    .dataframe tbody tr th:only-of-type {\n        vertical-align: middle;\n    }\n\n    .dataframe tbody tr th {\n        vertical-align: top;\n    }\n\n    .dataframe thead th {\n        text-align: right;\n    }\n</style>\n<table border=\"1\" class=\"dataframe\">\n  <thead>\n    <tr style=\"text-align: right;\">\n      <th></th>\n      <th>Country</th>\n      <th>Region</th>\n    </tr>\n  </thead>\n  <tbody>\n    <tr>\n      <th>0</th>\n      <td>Algeria</td>\n      <td>AFRICA</td>\n    </tr>\n    <tr>\n      <th>1</th>\n      <td>Angola</td>\n      <td>AFRICA</td>\n    </tr>\n    <tr>\n      <th>2</th>\n      <td>Benin</td>\n      <td>AFRICA</td>\n    </tr>\n    <tr>\n      <th>3</th>\n      <td>Botswana</td>\n      <td>AFRICA</td>\n    </tr>\n    <tr>\n      <th>4</th>\n      <td>Burkina</td>\n      <td>AFRICA</td>\n    </tr>\n    <tr>\n      <th>...</th>\n      <td>...</td>\n      <td>...</td>\n    </tr>\n    <tr>\n      <th>189</th>\n      <td>Paraguay</td>\n      <td>SOUTH AMERICA</td>\n    </tr>\n    <tr>\n      <th>190</th>\n      <td>Peru</td>\n      <td>SOUTH AMERICA</td>\n    </tr>\n    <tr>\n      <th>191</th>\n      <td>Suriname</td>\n      <td>SOUTH AMERICA</td>\n    </tr>\n    <tr>\n      <th>192</th>\n      <td>Uruguay</td>\n      <td>SOUTH AMERICA</td>\n    </tr>\n    <tr>\n      <th>193</th>\n      <td>Venezuela</td>\n      <td>SOUTH AMERICA</td>\n    </tr>\n  </tbody>\n</table>\n<p>194 rows × 2 columns</p>\n</div>"
          },
          "metadata": {}
        }
      ]
    },
    {
      "cell_type": "code",
      "source": "",
      "metadata": {},
      "execution_count": null,
      "outputs": []
    }
  ]
}